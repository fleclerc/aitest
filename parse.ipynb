{
 "cells": [
  {
   "cell_type": "code",
   "execution_count": 2,
   "metadata": {},
   "outputs": [
    {
     "name": "stdout",
     "output_type": "stream",
     "text": [
      "CSV file saved to: performance_metrics.csv\n"
     ]
    }
   ],
   "source": [
    "import re\n",
    "import pandas as pd\n",
    "\n",
    "# Define the input and output file paths\n",
    "input_file_path = 'perf.txt'  # Replace with your actual input file path\n",
    "output_csv_path = 'performance_metrics.csv'  # Replace with your desired output file path\n",
    "\n",
    "# Initialize a list to store parsed data\n",
    "parsed_data = []\n",
    "\n",
    "# Read the input file line by line\n",
    "with open(input_file_path, 'r') as file:\n",
    "    for line in file:\n",
    "        # Process only lines containing \"PERF:\"\n",
    "        if \"PERF:\" in line:\n",
    "            # Extract key-value pairs where key is before \":\" and value is the number of microseconds\n",
    "            time = line.split(\" \")[1]\n",
    "            match = re.findall(r\"([A-Za-z0-9-]+):\\+\\d+ms/(\\d+)us\", line)\n",
    "            if match:\n",
    "                # Convert extracted key-value pairs into a dictionary\n",
    "                row = {header: int(value) for header, value in match}\n",
    "                row['time'] = time\n",
    "                parsed_data.append(row)\n",
    "\n",
    "# Convert the parsed data into a Pandas DataFrame\n",
    "df = pd.DataFrame(parsed_data)\n",
    "\n",
    "# Save the DataFrame to a CSV file\n",
    "df.to_csv(output_csv_path, index=False)\n",
    "\n",
    "print(f\"CSV file saved to: {output_csv_path}\")"
   ]
  },
  {
   "cell_type": "code",
   "execution_count": 1,
   "metadata": {},
   "outputs": [
    {
     "name": "stdout",
     "output_type": "stream",
     "text": [
      "CSV file saved to: performance_metrics.csv\n"
     ]
    }
   ],
   "source": [
    "import re\n",
    "import csv\n",
    "\n",
    "# Define the input and output file paths\n",
    "input_file_path = 'perf.txt'  # Replace with your actual input file path\n",
    "output_csv_path = 'performance_metrics.csv'  # Replace with your desired output file path\n",
    "\n",
    "# Initialize a list to store parsed data and headers\n",
    "parsed_data = []\n",
    "headers = set()\n",
    "\n",
    "# Read the input file line by line\n",
    "with open(input_file_path, 'r') as file:\n",
    "    for line in file:\n",
    "        # Process only lines containing \"PERF:\"\n",
    "        if \"PERF:\" in line:\n",
    "            # Extract key-value pairs where key is before \":\" and value is the number of microseconds\n",
    "            match = re.findall(r\"([A-Za-z0-9-]+):\\+\\d+ms/(\\d+)us\", line)\n",
    "            if match:\n",
    "                # Add the headers and parsed values\n",
    "                row = {header: int(value) for header, value in match}\n",
    "                headers.update(row.keys())\n",
    "                parsed_data.append(row)\n",
    "\n",
    "# Convert the parsed data into a CSV file\n",
    "headers = sorted(headers)  # Sort headers to ensure consistent column order\n",
    "with open(output_csv_path, 'w', newline='') as csvfile:\n",
    "    csv_writer = csv.DictWriter(csvfile, fieldnames=headers)\n",
    "    csv_writer.writeheader()  # Write CSV headers\n",
    "    for row in parsed_data:\n",
    "        # Write rows, filling in missing keys with empty values\n",
    "        csv_writer.writerow({header: row.get(header, '') for header in headers})\n",
    "\n",
    "print(f\"CSV file saved to: {output_csv_path}\")"
   ]
  },
  {
   "cell_type": "code",
   "execution_count": null,
   "metadata": {},
   "outputs": [],
   "source": [
    "import re\n",
    "import csv\n",
    "import argparse\n",
    "\n",
    "# Set up command-line argument parsing\n",
    "parser = argparse.ArgumentParser(description=\"Convert a performance log file into a CSV.\")\n",
    "parser.add_argument('input_file', help=\"Path to the input performance log file\")\n",
    "parser.add_argument('output_file', help=\"Path to the output CSV file\", default=\"performance_metrics.csv\")\n",
    "\n",
    "args = parser.parse_args()\n",
    "\n",
    "# Get the input and output file paths from the command-line arguments\n",
    "input_file_path = args.input_file\n",
    "output_csv_path = args.output_file\n",
    "\n",
    "# Initialize a list to store parsed data and headers\n",
    "parsed_data = []\n",
    "headers = set()\n",
    "\n",
    "# Read the input file line by line\n",
    "with open(input_file_path, 'r') as file:\n",
    "    for line in file:\n",
    "        # Process only lines containing \"PERF:\"\n",
    "        if \"PERF:\" in line:\n",
    "            # Extract key-value pairs where key is before \":\" and value is the number of microseconds\n",
    "            match = re.findall(r\"([A-Za-z0-9-]+):\\+\\d+ms/(\\d+)us\", line)\n",
    "            if match:\n",
    "                # Add the headers and parsed values\n",
    "                row = {header: int(value) for header, value in match}\n",
    "                headers.update(row.keys())\n",
    "                parsed_data.append(row)\n",
    "\n",
    "# Convert the parsed data into a CSV file\n",
    "headers = sorted(headers)  # Sort headers to ensure consistent column order\n",
    "with open(output_csv_path, 'w', newline='') as csvfile:\n",
    "    csv_writer = csv.DictWriter(csvfile, fieldnames=headers)\n",
    "    csv_writer.writeheader()  # Write CSV headers\n",
    "    for row in parsed_data:\n",
    "        # Write rows, filling in missing keys with empty values\n",
    "        csv_writer.writerow({header: row.get(header, '') for header in headers})\n",
    "\n",
    "print(f\"CSV file saved to: {output_csv_path}\")"
   ]
  }
 ],
 "metadata": {
  "kernelspec": {
   "display_name": "ai",
   "language": "python",
   "name": "python3"
  },
  "language_info": {
   "codemirror_mode": {
    "name": "ipython",
    "version": 3
   },
   "file_extension": ".py",
   "mimetype": "text/x-python",
   "name": "python",
   "nbconvert_exporter": "python",
   "pygments_lexer": "ipython3",
   "version": "3.10.16"
  }
 },
 "nbformat": 4,
 "nbformat_minor": 2
}
