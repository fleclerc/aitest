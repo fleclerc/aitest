{
 "cells": [
  {
   "cell_type": "code",
   "execution_count": 1,
   "metadata": {},
   "outputs": [],
   "source": [
    "import pandas as pd\n"
   ]
  },
  {
   "cell_type": "code",
   "execution_count": 12,
   "metadata": {},
   "outputs": [
    {
     "data": {
      "text/html": [
       "<div>\n",
       "<style scoped>\n",
       "    .dataframe tbody tr th:only-of-type {\n",
       "        vertical-align: middle;\n",
       "    }\n",
       "\n",
       "    .dataframe tbody tr th {\n",
       "        vertical-align: top;\n",
       "    }\n",
       "\n",
       "    .dataframe thead th {\n",
       "        text-align: right;\n",
       "    }\n",
       "</style>\n",
       "<table border=\"1\" class=\"dataframe\">\n",
       "  <thead>\n",
       "    <tr style=\"text-align: right;\">\n",
       "      <th></th>\n",
       "      <th>ts_recv</th>\n",
       "      <th>ts_event</th>\n",
       "      <th>rtype</th>\n",
       "      <th>publisher_id</th>\n",
       "      <th>instrument_id</th>\n",
       "      <th>action</th>\n",
       "      <th>side</th>\n",
       "      <th>depth</th>\n",
       "      <th>price</th>\n",
       "      <th>size</th>\n",
       "      <th>flags</th>\n",
       "      <th>ts_in_delta</th>\n",
       "      <th>sequence</th>\n",
       "      <th>symbol</th>\n",
       "    </tr>\n",
       "  </thead>\n",
       "  <tbody>\n",
       "    <tr>\n",
       "      <th>432633</th>\n",
       "      <td>2025-01-02T23:58:47.470250521Z</td>\n",
       "      <td>2025-01-02T23:58:47.470082656Z</td>\n",
       "      <td>0</td>\n",
       "      <td>2</td>\n",
       "      <td>11667</td>\n",
       "      <td>T</td>\n",
       "      <td>A</td>\n",
       "      <td>0</td>\n",
       "      <td>137.91</td>\n",
       "      <td>50</td>\n",
       "      <td>130</td>\n",
       "      <td>167865</td>\n",
       "      <td>929248852</td>\n",
       "      <td>NVDA</td>\n",
       "    </tr>\n",
       "    <tr>\n",
       "      <th>432634</th>\n",
       "      <td>2025-01-02T23:58:48.188667758Z</td>\n",
       "      <td>2025-01-02T23:58:48.188499610Z</td>\n",
       "      <td>0</td>\n",
       "      <td>2</td>\n",
       "      <td>11667</td>\n",
       "      <td>T</td>\n",
       "      <td>N</td>\n",
       "      <td>0</td>\n",
       "      <td>137.91</td>\n",
       "      <td>69</td>\n",
       "      <td>0</td>\n",
       "      <td>168148</td>\n",
       "      <td>929248954</td>\n",
       "      <td>NVDA</td>\n",
       "    </tr>\n",
       "    <tr>\n",
       "      <th>432635</th>\n",
       "      <td>2025-01-02T23:58:48.192877623Z</td>\n",
       "      <td>2025-01-02T23:58:48.192708925Z</td>\n",
       "      <td>0</td>\n",
       "      <td>2</td>\n",
       "      <td>11667</td>\n",
       "      <td>T</td>\n",
       "      <td>B</td>\n",
       "      <td>0</td>\n",
       "      <td>137.91</td>\n",
       "      <td>181</td>\n",
       "      <td>0</td>\n",
       "      <td>168698</td>\n",
       "      <td>929248960</td>\n",
       "      <td>NVDA</td>\n",
       "    </tr>\n",
       "    <tr>\n",
       "      <th>432636</th>\n",
       "      <td>2025-01-02T23:58:48.192877623Z</td>\n",
       "      <td>2025-01-02T23:58:48.192708925Z</td>\n",
       "      <td>0</td>\n",
       "      <td>2</td>\n",
       "      <td>11667</td>\n",
       "      <td>T</td>\n",
       "      <td>B</td>\n",
       "      <td>0</td>\n",
       "      <td>137.91</td>\n",
       "      <td>15</td>\n",
       "      <td>130</td>\n",
       "      <td>168698</td>\n",
       "      <td>929248961</td>\n",
       "      <td>NVDA</td>\n",
       "    </tr>\n",
       "    <tr>\n",
       "      <th>432637</th>\n",
       "      <td>2025-01-02T23:59:55.339439925Z</td>\n",
       "      <td>2025-01-02T23:59:55.339272657Z</td>\n",
       "      <td>0</td>\n",
       "      <td>2</td>\n",
       "      <td>11667</td>\n",
       "      <td>T</td>\n",
       "      <td>B</td>\n",
       "      <td>0</td>\n",
       "      <td>137.92</td>\n",
       "      <td>1</td>\n",
       "      <td>130</td>\n",
       "      <td>167268</td>\n",
       "      <td>929255586</td>\n",
       "      <td>NVDA</td>\n",
       "    </tr>\n",
       "  </tbody>\n",
       "</table>\n",
       "</div>"
      ],
      "text/plain": [
       "                               ts_recv                        ts_event  rtype  \\\n",
       "432633  2025-01-02T23:58:47.470250521Z  2025-01-02T23:58:47.470082656Z      0   \n",
       "432634  2025-01-02T23:58:48.188667758Z  2025-01-02T23:58:48.188499610Z      0   \n",
       "432635  2025-01-02T23:58:48.192877623Z  2025-01-02T23:58:48.192708925Z      0   \n",
       "432636  2025-01-02T23:58:48.192877623Z  2025-01-02T23:58:48.192708925Z      0   \n",
       "432637  2025-01-02T23:59:55.339439925Z  2025-01-02T23:59:55.339272657Z      0   \n",
       "\n",
       "        publisher_id  instrument_id action side  depth   price  size  flags  \\\n",
       "432633             2          11667      T    A      0  137.91    50    130   \n",
       "432634             2          11667      T    N      0  137.91    69      0   \n",
       "432635             2          11667      T    B      0  137.91   181      0   \n",
       "432636             2          11667      T    B      0  137.91    15    130   \n",
       "432637             2          11667      T    B      0  137.92     1    130   \n",
       "\n",
       "        ts_in_delta   sequence symbol  \n",
       "432633       167865  929248852   NVDA  \n",
       "432634       168148  929248954   NVDA  \n",
       "432635       168698  929248960   NVDA  \n",
       "432636       168698  929248961   NVDA  \n",
       "432637       167268  929255586   NVDA  "
      ]
     },
     "execution_count": 12,
     "metadata": {},
     "output_type": "execute_result"
    }
   ],
   "source": [
    "df = pd.read_csv(\"market/xnas-itch-20250102.trades.csv\", nrows=100000000)\n",
    "df.tail()"
   ]
  },
  {
   "cell_type": "code",
   "execution_count": 6,
   "metadata": {},
   "outputs": [
    {
     "data": {
      "text/plain": [
       "Index(['ts_recv', 'ts_event', 'rtype', 'publisher_id', 'instrument_id',\n",
       "       'action', 'side', 'depth', 'price', 'size', 'flags', 'ts_in_delta',\n",
       "       'sequence', 'symbol'],\n",
       "      dtype='object')"
      ]
     },
     "execution_count": 6,
     "metadata": {},
     "output_type": "execute_result"
    }
   ],
   "source": [
    "df.columns"
   ]
  },
  {
   "cell_type": "code",
   "execution_count": 7,
   "metadata": {},
   "outputs": [
    {
     "data": {
      "text/plain": [
       "side\n",
       "B    37828\n",
       "A    36404\n",
       "N    25768\n",
       "Name: count, dtype: int64"
      ]
     },
     "execution_count": 7,
     "metadata": {},
     "output_type": "execute_result"
    }
   ],
   "source": [
    "df.side.value_counts()"
   ]
  },
  {
   "cell_type": "code",
   "execution_count": 13,
   "metadata": {},
   "outputs": [
    {
     "name": "stdout",
     "output_type": "stream",
     "text": [
      "<class 'pandas.core.frame.DataFrame'>\n",
      "RangeIndex: 432638 entries, 0 to 432637\n",
      "Data columns (total 14 columns):\n",
      " #   Column         Non-Null Count   Dtype  \n",
      "---  ------         --------------   -----  \n",
      " 0   ts_recv        432638 non-null  object \n",
      " 1   ts_event       432638 non-null  object \n",
      " 2   rtype          432638 non-null  int64  \n",
      " 3   publisher_id   432638 non-null  int64  \n",
      " 4   instrument_id  432638 non-null  int64  \n",
      " 5   action         432638 non-null  object \n",
      " 6   side           432638 non-null  object \n",
      " 7   depth          432638 non-null  int64  \n",
      " 8   price          432638 non-null  float64\n",
      " 9   size           432638 non-null  int64  \n",
      " 10  flags          432638 non-null  int64  \n",
      " 11  ts_in_delta    432638 non-null  int64  \n",
      " 12  sequence       432638 non-null  int64  \n",
      " 13  symbol         432638 non-null  object \n",
      "dtypes: float64(1), int64(8), object(5)\n",
      "memory usage: 46.2+ MB\n"
     ]
    }
   ],
   "source": [
    "df.info()"
   ]
  }
 ],
 "metadata": {
  "kernelspec": {
   "display_name": "ai",
   "language": "python",
   "name": "python3"
  },
  "language_info": {
   "codemirror_mode": {
    "name": "ipython",
    "version": 3
   },
   "file_extension": ".py",
   "mimetype": "text/x-python",
   "name": "python",
   "nbconvert_exporter": "python",
   "pygments_lexer": "ipython3",
   "version": "3.10.16"
  }
 },
 "nbformat": 4,
 "nbformat_minor": 2
}
