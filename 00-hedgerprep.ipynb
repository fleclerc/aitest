{
 "cells": [
  {
   "cell_type": "code",
   "execution_count": 127,
   "metadata": {},
   "outputs": [],
   "source": [
    "import pandas as pd\n",
    "import numpy as np\n",
    "import matplotlib.pyplot as plot\n",
    "from fastai.tabular.all import *"
   ]
  },
  {
   "cell_type": "code",
   "execution_count": null,
   "metadata": {},
   "outputs": [],
   "source": [
    "dt = \"20250103\"\n",
    "nrows = 1_500_000\n",
    "df = pd.read_csv(f\"market/xnas-itch-{dt}.mbp-10.csv\", nrows=nrows)\n",
    "#trddf = pd.read_csv(f\"market/xnas-itch-{dt}.trades.csv\", nrows=nrows)\n",
    "\n",
    "df.head()"
   ]
  },
  {
   "cell_type": "code",
   "execution_count": null,
   "metadata": {},
   "outputs": [],
   "source": [
    "df.shape"
   ]
  },
  {
   "cell_type": "markdown",
   "metadata": {},
   "source": [
    "#### Adjust timestamps + drop outside market hours"
   ]
  },
  {
   "cell_type": "code",
   "execution_count": null,
   "metadata": {},
   "outputs": [],
   "source": [
    "df[\"ts_event\"] = pd.to_datetime(df.ts_event, unit=\"ns\")\n",
    "df[\"ts_event\"] = df[\"ts_event\"].dt.tz_convert('US/Eastern')\n",
    "df = df[df[\"ts_event\"].dt.time >= pd.to_datetime(\"09:30\").time()]\n",
    "df = df[df[\"ts_event\"].dt.time <= pd.to_datetime(\"16:00\").time()]\n",
    "#df.set_index('ts_event', inplace=True)\n",
    "\n",
    "df = add_datepart(df, 'ts_event', drop=False)\n",
    "\n",
    "' '.join(o for o in df.columns if o.startswith('ts_event'))"
   ]
  },
  {
   "cell_type": "markdown",
   "metadata": {},
   "source": [
    "#### Cleanup (drop rows with NA)"
   ]
  },
  {
   "cell_type": "code",
   "execution_count": null,
   "metadata": {},
   "outputs": [],
   "source": [
    "orig_len = df.shape[0]\n",
    "df.dropna(inplace=True)\n",
    "cur_len = df.shape[0]\n",
    "drop_cnt = orig_len-cur_len\n",
    "if  drop_cnt > 1000:\n",
    "    raise Exception(f\"{drop_cnt} rows dropped, seems a lot\")\n",
    "else:\n",
    "    print(f\"{drop_cnt} dropped out of {orig_len}\")"
   ]
  },
  {
   "cell_type": "code",
   "execution_count": null,
   "metadata": {},
   "outputs": [],
   "source": [
    "# Filter the dataframe for action \"T\"\n",
    "df_trades = df[df['action'] == \"T\"]\n",
    "\n",
    "# Group by buckets of 15 minutes\n",
    "df_trades.set_index('ts_event').resample('15min').size().plot(kind='bar', title='Count of Trades Over Time')\n",
    "plot.xlabel('Time')\n",
    "#plot.xticks(rotation=45)\n",
    "labels = [item.get_text().split(' ')[1].split('+')[0][:-3] for item in plot.gca().get_xticklabels()]\n",
    "plot.gca().set_xticklabels(labels)\n",
    "plot.ylabel('Count')\n",
    "plot.show()"
   ]
  },
  {
   "cell_type": "code",
   "execution_count": null,
   "metadata": {},
   "outputs": [],
   "source": [
    "trades = df[(df.action == \"T\") & (df.side != \"N\")]\n",
    "cols = [\"action\", \"side\", \"price\", \"size\", \"bid_sz_00\", \"bid_px_00\", \"ask_px_00\", \"ask_sz_00\",\n",
    "         \"bid_sz_01\", \"bid_px_01\", \"ask_px_01\", \"ask_sz_01\",\"sequence\"]\n",
    "trades.side.value_counts()\n"
   ]
  },
  {
   "cell_type": "code",
   "execution_count": 134,
   "metadata": {},
   "outputs": [],
   "source": [
    "def display_around(idx, nbrows=6):\n",
    "    iloc_index = df.index.get_loc(idx)\n",
    "    print(iloc_index)\n",
    "    return df.iloc[iloc_index-1:iloc_index+nbrows-1][cols]\n",
    "idx = 0"
   ]
  },
  {
   "cell_type": "code",
   "execution_count": null,
   "metadata": {},
   "outputs": [],
   "source": [
    "x = display_around(trades.index[idx])\n",
    "print(idx, trades.index[idx])\n",
    "idx = idx + 1\n",
    "x"
   ]
  },
  {
   "cell_type": "markdown",
   "metadata": {},
   "source": [
    "#### Add spread"
   ]
  },
  {
   "cell_type": "code",
   "execution_count": null,
   "metadata": {},
   "outputs": [],
   "source": [
    "df['spread'] = (df['ask_px_00'] - df['bid_px_00'])/(df['bid_px_00']+df['ask_px_00'])\n",
    "df['spread'].plot(title='Spread Over Time')"
   ]
  },
  {
   "cell_type": "markdown",
   "metadata": {},
   "source": [
    "### calculate imbalance"
   ]
  },
  {
   "cell_type": "code",
   "execution_count": 137,
   "metadata": {},
   "outputs": [],
   "source": [
    "def calc_bid_weight(row):\n",
    "    return  np.array([row['mid']/(row['mid']-row[f'bid_px_0{i}'])*row[f'bid_sz_0{i}'] for i in range(0,10)]).sum(axis=0)\n",
    "def calc_ask_weight(row): \n",
    "    return np.array([row['mid']/(row[f'ask_px_0{i}']-row['mid'])*row[f'ask_sz_0{i}'] for i in range(0,10)]).sum(axis=0)    "
   ]
  },
  {
   "cell_type": "code",
   "execution_count": null,
   "metadata": {},
   "outputs": [],
   "source": [
    "# want to calculate the amount but also how spread out it is\n",
    "df['mid'] = (df['bid_px_00']+df['ask_px_00'])/2\n",
    "df['bid_weight'] = calc_bid_weight(df)\n",
    "df['ask_weight'] = calc_ask_weight(df)\n",
    "df['bid_weight_log'] = np.log(df['bid_weight'])\n",
    "df['ask_weight_log'] = np.log(df['ask_weight'])\n",
    "\n",
    "df[['bid_weight', 'ask_weight', 'bid_weight_log', 'ask_weight_log']].describe()"
   ]
  },
  {
   "cell_type": "code",
   "execution_count": null,
   "metadata": {},
   "outputs": [],
   "source": [
    "\n",
    "ax = df.set_index('ts_event')[['bid_weight_log', 'ask_weight_log']].resample('5min').mean().plot()\n",
    "df[df['action'] == 'T'].set_index('ts_event')['price'].resample('5min').mean().plot(ax=ax, secondary_y=True, color='r', label='Price')\n",
    "ax.set_xlabel('Time')\n",
    "ax.set_ylabel('Log Weight')\n",
    "ax.right_ax.set_ylabel('Price')\n",
    "ax.set_title('Bid and Ask Weight Log Over Time with Trade Prices')\n",
    "ax.legend(loc='upper left')\n",
    "ax.right_ax.legend(loc='upper right')\n",
    "plot.show()"
   ]
  },
  {
   "cell_type": "markdown",
   "metadata": {},
   "source": [
    "### Calculating trades on the bid and ask side\n"
   ]
  },
  {
   "cell_type": "code",
   "execution_count": 140,
   "metadata": {
    "vscode": {
     "languageId": "ruby"
    }
   },
   "outputs": [],
   "source": [
    "# add a column with a the traded size by row, with 0 for non trade rows\n",
    "# this makes the next calculation easier\n",
    "df[\"traded_bid_size\"] = df[\"size\"] * ((df[\"action\"] == \"T\") & (df[\"side\"] == \"B\"))\n",
    "df[\"traded_ask_size\"] = df[\"size\"] * ((df[\"action\"] == \"T\") & (df[\"side\"] == \"A\"))\n",
    "df[\"is_trade_bid\"] = ((df[\"action\"] == \"T\") & (df[\"side\"] == \"B\")) * 1\n",
    "df[\"is_trade_ask\"] = ((df[\"action\"] == \"T\") & (df[\"side\"] == \"A\")) * 1\n",
    "\n",
    "def add_rolling_trades_cols(period):\n",
    "    # temporary dataset so we can reindex\n",
    "    x = df[['ts_event', 'traded_bid_size', 'traded_ask_size', 'is_trade_bid', 'is_trade_ask']].copy()\n",
    "    x['original_index'] = df.index\n",
    "    x.set_index(\"ts_event\", inplace=True)\n",
    "\n",
    "    # calculate\n",
    "    x[f'rolling_{period}_bid_size'] = x[\"traded_bid_size\"].rolling(period).sum()\n",
    "    x[f'rolling_{period}_ask_size'] = x[\"traded_ask_size\"].rolling(period).sum()\n",
    "    x[f'rolling_{period}_bid_cnt'] = x[\"is_trade_bid\"].rolling(period).sum()\n",
    "    x[f'rolling_{period}_ask_cnt'] = x[\"is_trade_ask\"].rolling(period).sum()\n",
    "\n",
    "    # merge back to original dataframe\n",
    "    x.set_index(\"original_index\", inplace=True)\n",
    "    df[f'rolling_{period}_bid_size'] = x[f'rolling_{period}_bid_size']\n",
    "    df[f'rolling_{period}_ask_size'] = x[f'rolling_{period}_ask_size']\n",
    "    df[f'rolling_{period}_bid_cnt'] = x[f'rolling_{period}_bid_cnt']\n",
    "    df[f'rolling_{period}_ask_cnt'] = x[f'rolling_{period}_ask_cnt']\n",
    "\n",
    "\n",
    "add_rolling_trades_cols('30s')\n",
    "add_rolling_trades_cols('5min')\n",
    "\n",
    "# and cleanup\n",
    "_ = df.drop(columns=['traded_bid_size', 'traded_ask_size', 'is_trade_bid', 'is_trade_ask'])\n",
    "\n"
   ]
  },
  {
   "cell_type": "code",
   "execution_count": null,
   "metadata": {},
   "outputs": [],
   "source": [
    "ax = df.set_index('ts_event')[['rolling_30s_bid_size', 'rolling_30s_ask_size']].resample('5min').mean().plot()\n",
    "df.set_index('ts_event')[['rolling_30s_bid_cnt', 'rolling_30s_ask_cnt']].resample('5min').mean().plot(ax=ax, secondary_y=True)\n",
    "ax.set_xlabel('Time')\n",
    "ax.set_ylabel('size')\n",
    "ax.right_ax.set_ylabel('count')\n",
    "ax.legend(loc='upper left')\n",
    "ax.right_ax.legend(loc='upper right')\n",
    "plot.show()"
   ]
  },
  {
   "cell_type": "markdown",
   "metadata": {},
   "source": [
    "### Identify the best hedge position for each row"
   ]
  },
  {
   "cell_type": "code",
   "execution_count": null,
   "metadata": {},
   "outputs": [],
   "source": [
    "rdf = df[df['action'] == 'A'].sample(n=5000)\n",
    "rdf['hedge_buy_exec_idx'] = rdf.apply(lambda row: df.index[(df.index > row.name) & (df['ask_px_00'] <= row['bid_px_00'])].min(), axis=1)\n",
    "rdf['hedge_sell_exec_idx'] = rdf.apply(lambda row: df.index[(df.index > row.name) & (df['bid_px_00'] >= row['ask_px_00'])].min(), axis=1)\n",
    "\n",
    "rdf['hedge_buy_stop_idx'] = rdf.apply(lambda row: df.index[(df.index > row.name) & (df['bid_px_00'] >= row['bid_px_00']+0.02)].min(), axis=1)\n",
    "rdf['hedge_sell_stop_idx'] = rdf.apply(lambda row: df.index[(df.index > row.name) & (df['ask_px_00'] <= row['ask_px_00']-0.02)].min(), axis=1)\n",
    "\n",
    "rdf.shape"
   ]
  },
  {
   "cell_type": "code",
   "execution_count": null,
   "metadata": {},
   "outputs": [],
   "source": [
    "data = {\n",
    "    'A': [1, 2, 3, 4, 5, 6, 7, 8, 9, 10],\n",
    "    'W': [3, 3, 5, 6, 7, 8, 9, np.nan, np.nan, np.nan],\n",
    "}\n",
    "dfo = pd.DataFrame(data)\n",
    "df2 = dfo[dfo.A % 3 > 0].copy()\n",
    "print(type(df2.index))\n",
    "print(df2.index)\n",
    "shifts = df2['W'].where(~df2['W'].isna(), df2.index).astype(int)\n",
    "\n",
    "df2['ws'] = shifts-df2.index\n",
    "print(dfo)\n",
    "df2.shift(-df2.ws).max(axis=1)\n"
   ]
  },
  {
   "cell_type": "code",
   "execution_count": 166,
   "metadata": {},
   "outputs": [
    {
     "data": {
      "text/plain": [
       "Index([  80776,   80777,   80778,   80779,   80780,   80781,   80782,   80783,\n",
       "         80784,   80785,\n",
       "       ...\n",
       "       1499990, 1499991, 1499992, 1499993, 1499994, 1499995, 1499996, 1499997,\n",
       "       1499998, 1499999],\n",
       "      dtype='int64', length=1419224)"
      ]
     },
     "execution_count": 166,
     "metadata": {},
     "output_type": "execute_result"
    }
   ],
   "source": [
    "df.index"
   ]
  },
  {
   "cell_type": "code",
   "execution_count": 173,
   "metadata": {},
   "outputs": [],
   "source": [
    "# fix NaN values\n",
    "rdf['hedge_buy_stop_idx'] = rdf['hedge_buy_stop_idx'].where(~rdf['hedge_buy_stop_idx'].isna(), rdf.index)\n",
    "rdf['hedge_sell_stop_idx'] = rdf['hedge_sell_stop_idx'].where(~rdf['hedge_sell_stop_idx'].isna(), rdf.index)\n",
    "\n",
    "# convert idexes to int\n",
    "rdf['hedge_buy_stop_idx'] = rdf['hedge_buy_stop_idx'].astype(int)\n",
    "rdf['hedge_sell_stop_idx'] = rdf['hedge_sell_stop_idx'].astype(int)\n",
    "\n",
    "\n",
    "def optimal_buy_price(row):\n",
    "    idx = df.index.get_loc(row.name)\n",
    "    return df.iloc[idx:idx+1+row['hedge_buy_stop_idx']]['ask_px_00'].min()\n",
    "\n",
    "def optimal_sell_price(row):\n",
    "    idx = df.index.get_loc(row.name)\n",
    "    return df.iloc[idx:idx+1+row['hedge_sell_stop_idx']]['bid_px_00'].max()\n",
    "\n",
    "# calculate ideal position between current point and stop loss point \n",
    "rdf['ideal_buy_price'] = rdf.apply(optimal_buy_price, axis=1)\n",
    "rdf['ideal_sell_price'] = rdf.apply(optimal_sell_price, axis=1)\n",
    "\n"
   ]
  },
  {
   "cell_type": "code",
   "execution_count": 174,
   "metadata": {},
   "outputs": [],
   "source": [
    "idx = 0"
   ]
  },
  {
   "cell_type": "code",
   "execution_count": 177,
   "metadata": {},
   "outputs": [
    {
     "name": "stdout",
     "output_type": "stream",
     "text": [
      "bid_px_00           143.86\n",
      "ask_px_00           143.88\n",
      "ideal_buy_price     142.52\n",
      "ideal_sell_price    143.97\n",
      "Name: 1020127, dtype: object\n"
     ]
    },
    {
     "data": {
      "text/html": [
       "<div>\n",
       "<style scoped>\n",
       "    .dataframe tbody tr th:only-of-type {\n",
       "        vertical-align: middle;\n",
       "    }\n",
       "\n",
       "    .dataframe tbody tr th {\n",
       "        vertical-align: top;\n",
       "    }\n",
       "\n",
       "    .dataframe thead th {\n",
       "        text-align: right;\n",
       "    }\n",
       "</style>\n",
       "<table border=\"1\" class=\"dataframe\">\n",
       "  <thead>\n",
       "    <tr style=\"text-align: right;\">\n",
       "      <th></th>\n",
       "      <th>bid_px_00</th>\n",
       "      <th>ask_px_00</th>\n",
       "    </tr>\n",
       "  </thead>\n",
       "  <tbody>\n",
       "    <tr>\n",
       "      <th>1020127</th>\n",
       "      <td>143.86</td>\n",
       "      <td>143.88</td>\n",
       "    </tr>\n",
       "    <tr>\n",
       "      <th>1020128</th>\n",
       "      <td>143.86</td>\n",
       "      <td>143.88</td>\n",
       "    </tr>\n",
       "    <tr>\n",
       "      <th>1020129</th>\n",
       "      <td>143.86</td>\n",
       "      <td>143.88</td>\n",
       "    </tr>\n",
       "    <tr>\n",
       "      <th>1020130</th>\n",
       "      <td>143.86</td>\n",
       "      <td>143.88</td>\n",
       "    </tr>\n",
       "    <tr>\n",
       "      <th>1020131</th>\n",
       "      <td>143.86</td>\n",
       "      <td>143.88</td>\n",
       "    </tr>\n",
       "    <tr>\n",
       "      <th>...</th>\n",
       "      <td>...</td>\n",
       "      <td>...</td>\n",
       "    </tr>\n",
       "    <tr>\n",
       "      <th>1136927</th>\n",
       "      <td>143.88</td>\n",
       "      <td>143.90</td>\n",
       "    </tr>\n",
       "    <tr>\n",
       "      <th>1136928</th>\n",
       "      <td>143.88</td>\n",
       "      <td>143.90</td>\n",
       "    </tr>\n",
       "    <tr>\n",
       "      <th>1136929</th>\n",
       "      <td>143.88</td>\n",
       "      <td>143.90</td>\n",
       "    </tr>\n",
       "    <tr>\n",
       "      <th>1136930</th>\n",
       "      <td>143.88</td>\n",
       "      <td>143.90</td>\n",
       "    </tr>\n",
       "    <tr>\n",
       "      <th>1136931</th>\n",
       "      <td>143.88</td>\n",
       "      <td>143.90</td>\n",
       "    </tr>\n",
       "  </tbody>\n",
       "</table>\n",
       "<p>116805 rows × 2 columns</p>\n",
       "</div>"
      ],
      "text/plain": [
       "         bid_px_00  ask_px_00\n",
       "1020127     143.86     143.88\n",
       "1020128     143.86     143.88\n",
       "1020129     143.86     143.88\n",
       "1020130     143.86     143.88\n",
       "1020131     143.86     143.88\n",
       "...            ...        ...\n",
       "1136927     143.88     143.90\n",
       "1136928     143.88     143.90\n",
       "1136929     143.88     143.90\n",
       "1136930     143.88     143.90\n",
       "1136931     143.88     143.90\n",
       "\n",
       "[116805 rows x 2 columns]"
      ]
     },
     "execution_count": 177,
     "metadata": {},
     "output_type": "execute_result"
    }
   ],
   "source": [
    "rdf.iloc[idx:idx+1][['bid_px_00', 'ask_px_00', 'ideal_buy_price', 'ideal_sell_price']]\n",
    "stopidx = rdf.iloc[idx]['hedge_buy_stop_idx']\n",
    "row = rdf.iloc[idx]\n",
    "rowiloc = df.index.get_loc(row.name)\n",
    "stopiloc = df.index.get_loc(stopidx)\n",
    "print(row[['bid_px_00', 'ask_px_00', 'ideal_buy_price', 'ideal_sell_price']])\n",
    "df.iloc[rowiloc:stopiloc][['bid_px_00', 'ask_px_00']]"
   ]
  },
  {
   "cell_type": "code",
   "execution_count": null,
   "metadata": {},
   "outputs": [],
   "source": [
    "row = df.loc[1459267]\n",
    "df.index[(df.index > row.name) & (df['ask_px_00'] <= row['bid_px_00'])].min()\n",
    "row.ask_px_00, df.loc[row.name:].ask_px_00.min()"
   ]
  },
  {
   "cell_type": "markdown",
   "metadata": {},
   "source": [
    "### In search of one order triggering more than one execution"
   ]
  },
  {
   "cell_type": "code",
   "execution_count": null,
   "metadata": {},
   "outputs": [],
   "source": [
    "df[(df.action == \"T\") & (df.side == \"B\") & \n",
    "   (df.shift(1)[\"ask_px_00\"] != df[\"ask_px_00\"])][cols].head()\n",
    "#   & ((df.shift(-1)[\"ask_px_00\"] == df[\"ask_px_00\"] ) & (df.shift(-1)[\"ask_sz_00\"] == df[\"ask_sz_00\"]-df[\"size\"]))][cols].head()\n",
    "      "
   ]
  },
  {
   "cell_type": "code",
   "execution_count": null,
   "metadata": {},
   "outputs": [],
   "source": [
    "display_around(882, 10)"
   ]
  },
  {
   "cell_type": "code",
   "execution_count": null,
   "metadata": {},
   "outputs": [],
   "source": [
    "df[(df.action == \"T\") & (df.side != \"N\") & (df.shift(-1).action != \"C\")][cols]"
   ]
  },
  {
   "cell_type": "code",
   "execution_count": null,
   "metadata": {},
   "outputs": [],
   "source": [
    "display_around(206)"
   ]
  },
  {
   "cell_type": "markdown",
   "metadata": {},
   "source": [
    "### In search of iceberg orders"
   ]
  }
 ],
 "metadata": {
  "kernelspec": {
   "display_name": "ai",
   "language": "python",
   "name": "python3"
  },
  "language_info": {
   "codemirror_mode": {
    "name": "ipython",
    "version": 3
   },
   "file_extension": ".py",
   "mimetype": "text/x-python",
   "name": "python",
   "nbconvert_exporter": "python",
   "pygments_lexer": "ipython3",
   "version": "3.10.16"
  }
 },
 "nbformat": 4,
 "nbformat_minor": 2
}
